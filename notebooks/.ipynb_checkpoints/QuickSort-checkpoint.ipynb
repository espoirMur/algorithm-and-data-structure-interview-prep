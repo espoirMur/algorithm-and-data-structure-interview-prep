{
 "cells": [
  {
   "cell_type": "markdown",
   "metadata": {},
   "source": [
    "This notebook, will contain the implementation of the quicksort algorithms"
   ]
  },
  {
   "cell_type": "code",
   "execution_count": null,
   "metadata": {},
   "outputs": [],
   "source": [
    "def quciksort(array, start_index, end_index):\n",
    "    \"\"\"\n",
    "    do the quicksort algorithms recursvely\n",
    "    \"\"\"\n",
    "    if start_index < end_index:\n",
    "        pivot_index = partition(array, start_index, end_index)\n",
    "        quicksort(array, start_index, pivot_index-1)\n",
    "        quicksort(array, pivot_index+1, end)\n",
    "    else:\n",
    "        "
   ]
  },
  {
   "cell_type": "code",
   "execution_count": 1,
   "metadata": {},
   "outputs": [],
   "source": [
    "def partition(array, start_index, end_index):\n",
    "    \"\"\"\n",
    "    partition the array and return\n",
    "    return index of the pivot\n",
    "    \"\"\"\n",
    "    pivot = array[-1]\n",
    "    "
   ]
  },
  {
   "cell_type": "code",
   "execution_count": 2,
   "metadata": {},
   "outputs": [
    {
     "data": {
      "text/plain": [
       "'4'"
      ]
     },
     "execution_count": 2,
     "metadata": {},
     "output_type": "execute_result"
    }
   ],
   "source": []
  },
  {
   "cell_type": "code",
   "execution_count": null,
   "metadata": {},
   "outputs": [],
   "source": []
  }
 ],
 "metadata": {
  "kernelspec": {
   "display_name": "Python 3",
   "language": "python",
   "name": "python3"
  },
  "language_info": {
   "codemirror_mode": {
    "name": "ipython",
    "version": 3
   },
   "file_extension": ".py",
   "mimetype": "text/x-python",
   "name": "python",
   "nbconvert_exporter": "python",
   "pygments_lexer": "ipython3",
   "version": "3.6.5"
  }
 },
 "nbformat": 4,
 "nbformat_minor": 2
}
