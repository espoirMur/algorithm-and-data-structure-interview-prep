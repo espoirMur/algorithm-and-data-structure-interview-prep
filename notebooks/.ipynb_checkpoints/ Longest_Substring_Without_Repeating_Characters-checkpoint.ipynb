{
 "cells": [
  {
   "cell_type": "markdown",
   "metadata": {},
   "source": [
    "### [Problem](https://leetcode.com/problems/longest-substring-without-repeating-characters/)\n",
    "\n",
    "\n",
    "\n",
    "Given a string, find the length of the longest substring without repeating characters.\n"
   ]
  },
  {
   "cell_type": "markdown",
   "metadata": {},
   "source": [
    "### Question and Asumptions\n",
    "\n",
    "What is a substring? how a substring is different from a subsequence?\n",
    "\n",
    "- A substring is a contiguous sequence of characters within a string. "
   ]
  },
  {
   "cell_type": "markdown",
   "metadata": {},
   "source": [
    "### Examples\n",
    "\n",
    "**Example 1:**\n",
    "\n",
    "Input: \"abcabcbb\"\n",
    "Output: 3 \n",
    "Explanation: The answer is \"abc\", with the length of 3. \n",
    "\n",
    "**Example 2:**\n",
    "\n",
    "Input: \"bbbbb\"\n",
    "Output: 1\n",
    "Explanation: The answer is \"b\", with the length of 1.\n",
    "\n",
    "**Example 3:**\n",
    "\n",
    "Input: \"pwwkew\"\n",
    "Output: 3\n",
    "Explanation: The answer is \"wke\", with the length of 3. \n",
    "             Note that the answer must be a substring, \"pwke\" is a subsequence and not a substring."
   ]
  },
  {
   "cell_type": "markdown",
   "metadata": {},
   "source": [
    "### Algorithm :\n",
    "    loop to the string , keep track of seen characteres in a hashmap once a duplicate character is found return the sequence before the duplciate, and continue to the sequence"
   ]
  },
  {
   "cell_type": "code",
   "execution_count": 7,
   "metadata": {},
   "outputs": [
    {
     "data": {
      "text/plain": [
       "'e'"
      ]
     },
     "execution_count": 7,
     "metadata": {},
     "output_type": "execute_result"
    }
   ],
   "source": [
    "https://www.youtube.com/watch?v=mtHelVTLKRQ , Windows sliding technique"
   ]
  },
  {
   "cell_type": "code",
   "execution_count": 54,
   "metadata": {},
   "outputs": [],
   "source": [
    "def longest_substring(s):\n",
    "    seen = set()\n",
    "    longest_substring = ''\n",
    "    start_index = 0\n",
    "    i = 0\n",
    "    while i < len(s):\n",
    "        if s[i] not in seen:\n",
    "            seen.add(s[i])\n",
    "            sub_string = s[start_index:i+1]\n",
    "            if len(longest_substring) < len(sub_string):\n",
    "                longest_substring = sub_string\n",
    "            i+=1\n",
    "        else:\n",
    "            seen.remove(s[start_index])\n",
    "            start_index +=1  \n",
    "    return len(longest_substring)"
   ]
  },
  {
   "cell_type": "markdown",
   "metadata": {},
   "source": [
    "### Test"
   ]
  },
  {
   "cell_type": "code",
   "execution_count": 55,
   "metadata": {},
   "outputs": [
    {
     "data": {
      "text/plain": [
       "3"
      ]
     },
     "execution_count": 55,
     "metadata": {},
     "output_type": "execute_result"
    }
   ],
   "source": [
    "longest_substring(\"abcabcbb\")"
   ]
  },
  {
   "cell_type": "code",
   "execution_count": 56,
   "metadata": {},
   "outputs": [],
   "source": [
    "assert longest_substring(\"abcabcbb\") == len('abc')\n",
    "assert longest_substring(\"bbbbb\") == len('b')\n",
    "assert longest_substring(\"pwwkew\") == len('wke')\n",
    "assert longest_substring(\"dvdf\") == len('vdf')"
   ]
  },
  {
   "cell_type": "code",
   "execution_count": null,
   "metadata": {},
   "outputs": [],
   "source": []
  }
 ],
 "metadata": {
  "kernelspec": {
   "display_name": "Python 3",
   "language": "python",
   "name": "python3"
  },
  "language_info": {
   "codemirror_mode": {
    "name": "ipython",
    "version": 3
   },
   "file_extension": ".py",
   "mimetype": "text/x-python",
   "name": "python",
   "nbconvert_exporter": "python",
   "pygments_lexer": "ipython3",
   "version": "3.6.5"
  }
 },
 "nbformat": 4,
 "nbformat_minor": 2
}
