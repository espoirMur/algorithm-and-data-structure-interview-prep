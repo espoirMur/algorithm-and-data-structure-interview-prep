{
 "cells": [
  {
   "cell_type": "markdown",
   "metadata": {},
   "source": [
    "This notebook, will contain the implementation of the quicksort algorithms, this code was witten while following [this video](https://www.youtube.com/watch?v=COk73cpQbFQ&t=111s)"
   ]
  },
  {
   "cell_type": "code",
   "execution_count": 1,
   "metadata": {},
   "outputs": [],
   "source": [
    "def quicksort(array, start_index, end_index):\n",
    "    \"\"\"\n",
    "    do the quicksort algorithms recursvely\n",
    "    \"\"\"\n",
    "    if start_index < end_index:\n",
    "        pivot_index = partition(array, start_index, end_index)\n",
    "        quicksort(array, start_index, pivot_index-1)\n",
    "        quicksort(array, pivot_index+1, end_index)    "
   ]
  },
  {
   "cell_type": "code",
   "execution_count": 2,
   "metadata": {},
   "outputs": [],
   "source": [
    "def partition(array, start_index, end_index):\n",
    "    \"\"\"\n",
    "    partition the array and return\n",
    "    return index of the pivot\n",
    "    \"\"\"\n",
    "    pivot = array[end_index]\n",
    "    p_index = start_index\n",
    "    for i in range(start_index, end_index):\n",
    "        if array[i] <= pivot:\n",
    "            array[i],array[p_index] = array[p_index], array[i] # swapping the index\n",
    "            p_index +=1\n",
    "    array[p_index],array[end_index] = array[end_index], array[p_index]\n",
    "    return p_index"
   ]
  },
  {
   "cell_type": "code",
   "execution_count": 3,
   "metadata": {},
   "outputs": [],
   "source": [
    "the_array = [7, 2, 1, 6, 8, 5, 3, 4]\n",
    "quicksort(the_array, 0, len(the_array)-1)"
   ]
  },
  {
   "cell_type": "code",
   "execution_count": 4,
   "metadata": {},
   "outputs": [
    {
     "data": {
      "text/plain": [
       "[1, 2, 3, 4, 5, 6, 7, 8]"
      ]
     },
     "execution_count": 4,
     "metadata": {},
     "output_type": "execute_result"
    }
   ],
   "source": [
    "the_array"
   ]
  },
  {
   "cell_type": "code",
   "execution_count": null,
   "metadata": {},
   "outputs": [],
   "source": []
  }
 ],
 "metadata": {
  "kernelspec": {
   "display_name": "Python 3",
   "language": "python",
   "name": "python3"
  },
  "language_info": {
   "codemirror_mode": {
    "name": "ipython",
    "version": 3
   },
   "file_extension": ".py",
   "mimetype": "text/x-python",
   "name": "python",
   "nbconvert_exporter": "python",
   "pygments_lexer": "ipython3",
   "version": "3.6.5"
  }
 },
 "nbformat": 4,
 "nbformat_minor": 2
}
