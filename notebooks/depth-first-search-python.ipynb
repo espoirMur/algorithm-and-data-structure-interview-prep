{
 "cells": [
  {
   "cell_type": "markdown",
   "metadata": {},
   "source": [
    "### Depth First Search\n",
    "\n",
    "\n",
    "This notebook will contains the implementation of depth first search graph traversal algorithm"
   ]
  },
  {
   "cell_type": "markdown",
   "metadata": {},
   "source": [
    "- let look to the algo pseudo code before diving to the implementation.\n",
    "\n",
    "- The main idea of depth first search is to start from a random node in  a graph explore it depth , from child to grand child, to grand grand child until we reach a leaf child and child without parent.\n",
    "\n",
    "We will be keeping the child we"
   ]
  }
 ],
 "metadata": {
  "kernelspec": {
   "display_name": "Python 3",
   "language": "python",
   "name": "python3"
  },
  "language_info": {
   "codemirror_mode": {
    "name": "ipython",
    "version": 3
   },
   "file_extension": ".py",
   "mimetype": "text/x-python",
   "name": "python",
   "nbconvert_exporter": "python",
   "pygments_lexer": "ipython3",
   "version": "3.6.5"
  }
 },
 "nbformat": 4,
 "nbformat_minor": 2
}
