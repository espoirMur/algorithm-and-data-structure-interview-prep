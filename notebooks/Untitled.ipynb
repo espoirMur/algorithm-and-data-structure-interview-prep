{
 "cells": [
  {
   "cell_type": "code",
   "execution_count": 62,
   "metadata": {},
   "outputs": [],
   "source": [
    "class Solution(object):\n",
    "    def numOffices(self, grid):\n",
    "        \"\"\"\n",
    "        :type grid: List[List[str]]\n",
    "        :rtype: int\n",
    "        \"\"\"\n",
    "        results = 0\n",
    "        for row in grid:\n",
    "            for el, next_el in zip(row, row[1:]):\n",
    "                if '1'== el == next_el:\n",
    "                    results +=1\n",
    "        return results\n",
    "def get_matrix():\n",
    "    row = int(input())\n",
    "    col = int(input())\n",
    "    grid = [[\"0\"]*col]*row\n",
    "    for i in range(row):\n",
    "        line = input()\n",
    "        grid[i] = list(line)[0:col]\n",
    "    return grid"
   ]
  },
  {
   "cell_type": "code",
   "execution_count": 6,
   "metadata": {},
   "outputs": [
    {
     "name": "stdout",
     "output_type": "stream",
     "text": [
      "4\n",
      "5\n",
      "11000\n",
      "11000\n",
      "00100\n",
      "00011\n",
      "[['1', '1', '0', '0', '0'], ['1', '1', '0', '0', '0'], ['0', '0', '1', '0', '0'], ['0', '0', '0', '1', '1']]\n",
      "0\n"
     ]
    }
   ],
   "source": [
    "sol = Solution()\n",
    "matrix = get_matrix()\n",
    "print(matrix)\n",
    "offices = sol.numOffices(matrix)\n",
    "print(offices)"
   ]
  },
  {
   "cell_type": "code",
   "execution_count": 64,
   "metadata": {},
   "outputs": [
    {
     "name": "stdout",
     "output_type": "stream",
     "text": [
      "3\n"
     ]
    }
   ],
   "source": [
    "sol = Solution()\n",
    "matrix = [['1', '1', '0', '0', '0'], ['1', '1', '0', '0', '0'], ['0', '0', '1', '0', '0'], ['0', '0', '0', '1', '1']]\n",
    "offices = sol.numOffices(matrix)\n",
    "print(offices)"
   ]
  },
  {
   "cell_type": "code",
   "execution_count": 112,
   "metadata": {},
   "outputs": [],
   "source": [
    "from itertools import combinations, permutations, combinations_with_replacement"
   ]
  },
  {
   "cell_type": "code",
   "execution_count": 104,
   "metadata": {},
   "outputs": [],
   "source": [
    "def generate_first_perumutations(a_string):\n",
    "    for i in range(0,len(a_string)+1):\n",
    "        for comb in combinations(a_string, i):\n",
    "            if comb:\n",
    "                yield ''.join(comb)"
   ]
  },
  {
   "cell_type": "code",
   "execution_count": 105,
   "metadata": {},
   "outputs": [
    {
     "name": "stdout",
     "output_type": "stream",
     "text": [
      "x\n",
      "y\n",
      "z\n",
      "xy\n",
      "xz\n",
      "yz\n",
      "xyz\n"
     ]
    }
   ],
   "source": [
    "for x in generate_first_perumutations(\"xyz\"):\n",
    "    print(x)"
   ]
  },
  {
   "cell_type": "code",
   "execution_count": 149,
   "metadata": {},
   "outputs": [],
   "source": [
    "first_items = list(generate_first_perumutations(\"xyz\"))\n",
    "\n",
    "def generate_second_perumutations(first_item, target):\n",
    "    unique_permutations = set()\n",
    "    for i in range(0, len(first_item)+1):\n",
    "        sorted_comb = combinations_with_replacement(first_item, i)\n",
    "        for combo in sorted_comb: \n",
    "            for p in permutations(combo):\n",
    "                if ''.join(p) == target:\n",
    "                    return i"
   ]
  },
  {
   "cell_type": "code",
   "execution_count": 150,
   "metadata": {},
   "outputs": [
    {
     "data": {
      "text/plain": [
       "['x', 'x', 'y', 'z', 'z']"
      ]
     },
     "execution_count": 150,
     "metadata": {},
     "output_type": "execute_result"
    }
   ],
   "source": [
    "sorted(\"xzyxz\")"
   ]
  },
  {
   "cell_type": "code",
   "execution_count": 151,
   "metadata": {
    "scrolled": false
   },
   "outputs": [
    {
     "name": "stdout",
     "output_type": "stream",
     "text": [
      "xzyxz ['xz', 'y', 'xz']\n",
      "found\n"
     ]
    },
    {
     "data": {
      "text/plain": [
       "3"
      ]
     },
     "execution_count": 151,
     "metadata": {},
     "output_type": "execute_result"
    }
   ],
   "source": [
    "generate_second_perumutations(first_items, \"xzyxz\")"
   ]
  },
  {
   "cell_type": "code",
   "execution_count": 152,
   "metadata": {},
   "outputs": [],
   "source": [
    "def minimumConcat(initial, goal):\n",
    "    if set(initial) != set(goal):\n",
    "        res = -1\n",
    "        return res\n",
    "    first_items = list(generate_first_perumutations(initial))\n",
    "    res = generate_second_perumutations(first_items, goal)\n",
    "    print(res)\n",
    "    return res"
   ]
  },
  {
   "cell_type": "code",
   "execution_count": 154,
   "metadata": {},
   "outputs": [
    {
     "data": {
      "text/plain": [
       "-1"
      ]
     },
     "execution_count": 154,
     "metadata": {},
     "output_type": "execute_result"
    }
   ],
   "source": [
    "minimumConcat(\"abc\", \"acdbc\")"
   ]
  },
  {
   "cell_type": "code",
   "execution_count": null,
   "metadata": {},
   "outputs": [],
   "source": [
    "sorted_combinations = itertools.combinations_with_replacement(possible_values, n_positions)\n",
    "unique_permutations = set()\n",
    "for combo in sorted_combinations:\n",
    "    # TODO: Do filtering for acceptable combinations before passing to permutations.\n",
    "    for p in itertools.permutations(combo):\n",
    "        unique_permutations.add(p)\n"
   ]
  },
  {
   "cell_type": "code",
   "execution_count": 162,
   "metadata": {},
   "outputs": [],
   "source": [
    "def biggestTable(grid):\n",
    "        # your code here\n",
    "        R = len(grid) # no. of rows in grid[][] \n",
    "        C = len(grid[0]) # no. of columns in grid[][] \n",
    "    \n",
    "        S = [[0 for k in range(C)] for l in range(R)] \n",
    "        # here we have set the first row and column of S[][] \n",
    "    \n",
    "        # Construct other entries \n",
    "        for i in range(1, R): \n",
    "            for j in range(1, C): \n",
    "                if (grid[i][j] == 1): \n",
    "                    S[i][j] = min(S[i][j-1], S[i-1][j], \n",
    "                                S[i-1][j-1]) + 1\n",
    "                else: \n",
    "                    S[i][j] = 0\n",
    "        \n",
    "        # Find the maximum entry and \n",
    "        # indices of maximum entry in S[][] \n",
    "        print(S)\n",
    "        max_of_s = S[0][0] \n",
    "        max_i = 0\n",
    "        max_j = 0\n",
    "        for i in range(R): \n",
    "            for j in range(C): \n",
    "                if (max_of_s < S[i][j]): \n",
    "                    max_of_s = S[i][j] \n",
    "                    max_i = i \n",
    "                    max_j = j \n",
    "        results = 0\n",
    "        for i in range(max_i, max_i - max_of_s, -1): \n",
    "            for j in range(max_j, max_j - max_of_s, -1): \n",
    "                results += grid[i][j]\n",
    "        print(results)\n",
    "        return results"
   ]
  },
  {
   "cell_type": "code",
   "execution_count": 163,
   "metadata": {},
   "outputs": [],
   "source": [
    "grid = [[1, 0, 1, 1, 1],[1, 0, 1, 1, 1],[1, 1, 1, 1, 1], [1, 0, 0, 1, 0]]"
   ]
  },
  {
   "cell_type": "code",
   "execution_count": 164,
   "metadata": {},
   "outputs": [
    {
     "name": "stdout",
     "output_type": "stream",
     "text": [
      "[[0, 0, 0, 0, 0], [0, 0, 1, 1, 1], [0, 1, 1, 2, 2], [0, 0, 0, 1, 0]]\n",
      "4\n"
     ]
    },
    {
     "data": {
      "text/plain": [
       "4"
      ]
     },
     "execution_count": 164,
     "metadata": {},
     "output_type": "execute_result"
    }
   ],
   "source": [
    "biggestTable(grid)"
   ]
  },
  {
   "cell_type": "code",
   "execution_count": null,
   "metadata": {},
   "outputs": [],
   "source": []
  }
 ],
 "metadata": {
  "kernelspec": {
   "display_name": "Python 3",
   "language": "python",
   "name": "python3"
  },
  "language_info": {
   "codemirror_mode": {
    "name": "ipython",
    "version": 3
   },
   "file_extension": ".py",
   "mimetype": "text/x-python",
   "name": "python",
   "nbconvert_exporter": "python",
   "pygments_lexer": "ipython3",
   "version": "3.6.5"
  }
 },
 "nbformat": 4,
 "nbformat_minor": 2
}
