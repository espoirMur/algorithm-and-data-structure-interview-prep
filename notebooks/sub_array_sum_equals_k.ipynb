{
 "cells": [
  {
   "cell_type": "markdown",
   "metadata": {},
   "source": [
    "The Problem :\n",
    "    Given an array of integers and an integer k, you need to find the total number of continuous subarrays whose sum equals to k.\n",
    "    "
   ]
  },
  {
   "cell_type": "markdown",
   "metadata": {},
   "source": [
    "**Example 1:**\n",
    "\n",
    "\n",
    "`Input:nums = [1,1,1], k = 2\n",
    "Output: 2`"
   ]
  },
  {
   "cell_type": "code",
   "execution_count": null,
   "metadata": {},
   "outputs": [],
   "source": [
    "Assumptions :\n",
    "    - the array is not ordered\n",
    "    - it can contains duplciate\n",
    "    - and negatives as well"
   ]
  },
  {
   "cell_type": "markdown",
   "metadata": {},
   "source": [
    "Algorithm Approach :\n",
    "    \n",
    "    - start with the first item, \n",
    "    if it less than the sum, go do the next item, compute the sum,"
   ]
  },
  {
   "cell_type": "markdown",
   "metadata": {},
   "source": [
    "let go simple, we find , the pair of items in  an array where sum is the k "
   ]
  },
  {
   "cell_type": "markdown",
   "metadata": {},
   "source": [
    "then we will to find 3 elements whose sum equal k \n",
    "and check with 4 and check if we can see a patterns"
   ]
  },
  {
   "cell_type": "markdown",
   "metadata": {},
   "source": [
    "We can import quick sort partitionning schemas and divide the array into 2 part one part where item are less than 4 and another part where item greater than k"
   ]
  },
  {
   "cell_type": "markdown",
   "metadata": {},
   "source": [
    "if we are lucky we will be dividing the space "
   ]
  },
  {
   "cell_type": "code",
   "execution_count": 11,
   "metadata": {},
   "outputs": [],
   "source": [
    "def partition(nums, k):\n",
    "    values = []\n",
    "    for i in nums:\n",
    "        if i < k :\n",
    "            values.append(i)\n",
    "    return values"
   ]
  },
  {
   "cell_type": "code",
   "execution_count": 12,
   "metadata": {},
   "outputs": [],
   "source": [
    "nums = [1, 1, 1]\n",
    "k = 2"
   ]
  },
  {
   "cell_type": "code",
   "execution_count": 17,
   "metadata": {
    "scrolled": false
   },
   "outputs": [
    {
     "name": "stdout",
     "output_type": "stream",
     "text": [
      "[(1, 1)]\n"
     ]
    }
   ],
   "source": [
    "values = partition(nums, k) # O(n)\n",
    "values.sort() # 0(n)\n",
    "i = 0\n",
    "j = len(values)-1\n",
    "return_values = []\n",
    "while i < len(values)/2 and j >= len(values)/2:\n",
    "    sum_ = (values[i] + values[j])\n",
    "    if  sum_ > k:\n",
    "        j-=1\n",
    "    elif sum_ < k:\n",
    "        i+=1\n",
    "    else:\n",
    "        return_values.append((values[i], values[j]))\n",
    "        i+=1\n",
    "        j-=1\n",
    "print(return_values)"
   ]
  },
  {
   "cell_type": "markdown",
   "metadata": {},
   "source": [
    "Let improve this to get the next element"
   ]
  },
  {
   "cell_type": "code",
   "execution_count": 21,
   "metadata": {},
   "outputs": [
    {
     "name": "stdout",
     "output_type": "stream",
     "text": [
      "[(1, 1), (1, 1)]\n"
     ]
    }
   ],
   "source": [
    "values = partition(nums, k) # O(n)\n",
    "# no need to sort\n",
    "i = 0\n",
    "return_values = []\n",
    "while i < len(values)-1:\n",
    "    j = i+1\n",
    "    sum_ = sum([values[i], values[j]])\n",
    "    if  sum_ != k:\n",
    "        i+=1\n",
    "    else:\n",
    "        return_values.append((values[i], values[j]))\n",
    "        i+=1\n",
    "print(return_values)"
   ]
  },
  {
   "cell_type": "markdown",
   "metadata": {},
   "source": [
    "We can now generatlize this with another approach, \n",
    "we loop from every element element of the array, and check if all possible array of diffrent lenght has sum equal to K"
   ]
  },
  {
   "cell_type": "code",
   "execution_count": 22,
   "metadata": {},
   "outputs": [],
   "source": [
    "values = [-1,-1,1]\n",
    "k = 0\n",
    "results = []\n",
    "for i in range(0, len(values)):\n",
    "    last_index = len(values) \n",
    "    while len(values[i:last_index]) >= 1:\n",
    "        sub_array = values[i:last_index]\n",
    "        sum_ = sum(sub_array)\n",
    "        if sum_ == k :\n",
    "            results.append(sub_array)\n",
    "            last_index -=1\n",
    "        elif sum_ > k:\n",
    "            # if the sum is already superior we leave\n",
    "            last_index -=1\n",
    "        else:\n",
    "            last_index -=1"
   ]
  },
  {
   "cell_type": "markdown",
   "metadata": {},
   "source": [
    "This look like a good solution to the problem.\n",
    "it has a big o"
   ]
  }
 ],
 "metadata": {
  "kernelspec": {
   "display_name": "Python 3",
   "language": "python",
   "name": "python3"
  },
  "language_info": {
   "codemirror_mode": {
    "name": "ipython",
    "version": 3
   },
   "file_extension": ".py",
   "mimetype": "text/x-python",
   "name": "python",
   "nbconvert_exporter": "python",
   "pygments_lexer": "ipython3",
   "version": "3.6.5"
  }
 },
 "nbformat": 4,
 "nbformat_minor": 2
}
