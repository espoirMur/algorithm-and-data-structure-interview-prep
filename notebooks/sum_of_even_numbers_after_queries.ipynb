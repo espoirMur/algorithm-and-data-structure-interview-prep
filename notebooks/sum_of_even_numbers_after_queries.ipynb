{
 "cells": [
  {
   "cell_type": "markdown",
   "metadata": {},
   "source": [
    "#### [Problem](https://leetcode.com/problems/sum-of-even-numbers-after-queries/):\n",
    "\n",
    "\n",
    "We have an array A of integers, and an array queries of queries.\n",
    "\n",
    "For the i-th query val = queries[i][0], index = queries[i][1], we add val to A[index].  Then, the answer to the i-th query is the sum of the even values of A.\n",
    "\n",
    "(Here, the given index = queries[i][1] is a 0-based index, and each query permanently modifies the array A.)\n",
    "\n",
    "Return the answer to all queries.  Your answer array should have answer[i] as the answer to the i-th query.\n",
    "\n",
    " "
   ]
  },
  {
   "cell_type": "markdown",
   "metadata": {},
   "source": [
    "### Assumptions : \n",
    "\n",
    "    - Query array and array has the same lenght\n",
    "    - the array is not sorted\n",
    "    - it can hold duplicates \n",
    "    - Array can hold positives and negatives values \n",
    "    - index are only integer and they whitin the array\n",
    "    "
   ]
  },
  {
   "cell_type": "markdown",
   "metadata": {},
   "source": [
    "### Example : \n",
    "    \n",
    "    Input: A =[1,2,3,4], queries = [[1,0],[-3,1],[-4,0],[2,3]]\n",
    "    Output: [8,6,2,4]\n",
    "    Explanation: \n",
    "    At the beginning, the array is [1,2,3,4].\n",
    "    After adding 1 to A[0], the array is [2,2,3,4], and the sum of even values is 2 + 2 + 4 = 8.\n",
    "    After adding -3 to A[1], the array is [2,-1,3,4], and the sum of even values is 2 + 4 = 6.\n",
    "    After adding -4 to A[0], the array is [-2,-1,3,4], and the sum of even values is -2 + 4 = 2.\n",
    "    After adding 2 to A[3], the array is [-2,-1,3,6], and the sum of even values is -2 + 6 = 4."
   ]
  },
  {
   "cell_type": "markdown",
   "metadata": {},
   "source": [
    "### Algorithm approach : (Brute force):\n",
    "- while looping trought the array :\n",
    "    - start with the element at the first index \n",
    "    update the array by addding the values at index in the query\n",
    "    - compute the sum of even values of the array \n",
    "    -add it to results array"
   ]
  },
  {
   "cell_type": "code",
   "execution_count": 3,
   "metadata": {
    "scrolled": true
   },
   "outputs": [
    {
     "name": "stdout",
     "output_type": "stream",
     "text": [
      "[8, 6, 2, 4]\n",
      "[-2, -1, 3, 6]\n"
     ]
    }
   ],
   "source": [
    "array = [1,2,3,4]\n",
    "queries = [[1,0],[-3,1],[-4,0],[2,3]]\n",
    "results = []\n",
    "for i, x in enumerate(array):\n",
    "    index = queries[i][1]\n",
    "    values = queries[i][0]\n",
    "    array[index] += values\n",
    "    sum_evens = sum([x for x in array if x%2==0])\n",
    "    results.append(sum_evens)\n",
    "print(results)\n",
    "print(array)"
   ]
  },
  {
   "cell_type": "code",
   "execution_count": null,
   "metadata": {},
   "outputs": [],
   "source": [
    "[4, 3, 0, 2]"
   ]
  },
  {
   "cell_type": "markdown",
   "metadata": {},
   "source": [
    "This look for a simple solution but it has problem , one for loop and one sum of even which lead to a big o of n(2)\n",
    "Let see if we can bring it down to n"
   ]
  },
  {
   "cell_type": "markdown",
   "metadata": {},
   "source": [
    "### Optimization Approach"
   ]
  },
  {
   "cell_type": "markdown",
   "metadata": {},
   "source": [
    "To bring that solution to a n solution we need to remove that sum of even values in the array we are doing in the for loop and modify the algorithm"
   ]
  },
  {
   "cell_type": "markdown",
   "metadata": {},
   "source": [
    "- we start by adding the values at index 0 in query to the coresponding index in array\n",
    "- Then we compute the sum of even values in the array at that time.\n",
    "- We start now by looping trought the array :\n",
    "    - if the element is even remove it from current_sum\n",
    "    - check if the element at the index queries is even, if yes it means I consider it when I was calculating the previous sum , so remove it\n",
    "    - add the element at query[i] to the corresponding elment of the array\n",
    "    - if than new element if even add it to current sum\n",
    "    append the results to results array."
   ]
  },
  {
   "cell_type": "code",
   "execution_count": 5,
   "metadata": {},
   "outputs": [
    {
     "name": "stdout",
     "output_type": "stream",
     "text": [
      "[8, 6, 2, 4]\n"
     ]
    }
   ],
   "source": [
    "array = [1,2,3,4]\n",
    "queries = [[1,0],[-3,1],[-4,0],[2,3]]\n",
    "array[queries[0][1]] += queries[0][0]\n",
    "current_sum_evens = sum([x for x in array if x%2==0])\n",
    "sums_evens = [current_sum_evens]\n",
    "for i, x in enumerate(array[1:], 1):\n",
    "    index = queries[i][1]\n",
    "    values = queries[i][0]\n",
    "    if array[index] % 2 == 0: ## Did I consider it when I was calculated sum of even values before?\n",
    "        current_sum_evens -= array[index]\n",
    "    curent_value = array[index] + values\n",
    "    array[index] = curent_value\n",
    "    if curent_value % 2 == 0: ## If it even update sum of current values\n",
    "        current_sum_evens += curent_value\n",
    "    sums_evens.append(current_sum_evens)\n",
    "print(sums_evens)"
   ]
  },
  {
   "cell_type": "code",
   "execution_count": null,
   "metadata": {},
   "outputs": [],
   "source": []
  }
 ],
 "metadata": {
  "kernelspec": {
   "display_name": "Python 3",
   "language": "python",
   "name": "python3"
  },
  "language_info": {
   "codemirror_mode": {
    "name": "ipython",
    "version": 3
   },
   "file_extension": ".py",
   "mimetype": "text/x-python",
   "name": "python",
   "nbconvert_exporter": "python",
   "pygments_lexer": "ipython3",
   "version": "3.6.5"
  }
 },
 "nbformat": 4,
 "nbformat_minor": 2
}
