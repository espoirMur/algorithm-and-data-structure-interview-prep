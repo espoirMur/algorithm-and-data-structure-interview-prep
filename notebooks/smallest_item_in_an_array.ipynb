{
 "cells": [
  {
   "cell_type": "markdown",
   "metadata": {},
   "source": [
    "### Find The Kth Smallest/Largest Integer In An Array"
   ]
  },
  {
   "cell_type": "markdown",
   "metadata": {},
   "source": [
    "Problem:\n",
    "    \n",
    "  **Given an array arr[] and a number K where K is smaller than size of array, the task is to find the Kth smallest element in the given array. It is given that all array elements are distinct.**\n",
    "\n",
    "Expected Time Complexity: O(n)\n",
    "\n",
    "Input:\n",
    "The first line of input contains an integer T, denoting the number of testcases. Then T test cases follow. Each test case consists of three lines. First line of each testcase contains an integer N denoting size of the array. Second line contains N space separated integer denoting elements of the array. Third line of the test case contains an integer K."
   ]
  },
  {
   "cell_type": "markdown",
   "metadata": {},
   "source": [
    "### Assumptions\n",
    "\n",
    "- array element are integer\n",
    "- the array is not sorted \n",
    "- The array does not contain duplicates elements "
   ]
  },
  {
   "cell_type": "markdown",
   "metadata": {},
   "source": [
    "## Problem solving steps Algorithms approach to test if I have understood the question"
   ]
  },
  {
   "cell_type": "markdown",
   "metadata": {},
   "source": [
    "### Examples:\n",
    "\n",
    "Given = [7 10 4 3 20 15]\n",
    "the 3rd smallest element here is 7"
   ]
  },
  {
   "cell_type": "markdown",
   "metadata": {},
   "source": [
    "### Pattern Matching :\n",
    "\n",
    "What is another similar version of this problem?\n",
    "Getting the Kst samllestt element in a sorted element in a sorted array\n",
    "Sorting an array"
   ]
  },
  {
   "cell_type": "markdown",
   "metadata": {},
   "source": [
    "## Solutions "
   ]
  },
  {
   "cell_type": "markdown",
   "metadata": {},
   "source": [
    "Brute force solution  algorithm :\n",
    "    - sort the array\n",
    "    - get the element from the array "
   ]
  },
  {
   "cell_type": "markdown",
   "metadata": {},
   "source": [
    "Another which look like sort the array:\n",
    "    start from the first element of the array, \n",
    "    find the smallest elemnt of the array shift positions with that elemnt or add it to another set \n",
    "    once the set has K element get the Kiest element"
   ]
  },
  {
   "cell_type": "markdown",
   "metadata": {},
   "source": [
    "## Implementation:"
   ]
  },
  {
   "cell_type": "code",
   "execution_count": 25,
   "metadata": {},
   "outputs": [],
   "source": [
    "def smallest_element_array(array, k):\n",
    "    if k==0 or k not in range(0, len(array)+1):\n",
    "        raise ValueError('Invalid value')\n",
    "    sorted_array = sorted(array)\n",
    "    return sorted_array[k-1]"
   ]
  },
  {
   "cell_type": "code",
   "execution_count": 26,
   "metadata": {},
   "outputs": [
    {
     "name": "stdout",
     "output_type": "stream",
     "text": [
      "7\n"
     ]
    }
   ],
   "source": [
    "print(smallest_element_array([7, 10, 4, 3, 20, 15], 3))"
   ]
  },
  {
   "cell_type": "code",
   "execution_count": 27,
   "metadata": {},
   "outputs": [
    {
     "name": "stdout",
     "output_type": "stream",
     "text": [
      "7\n"
     ]
    }
   ],
   "source": [
    "print(smallest_element_array([7], 1))"
   ]
  },
  {
   "cell_type": "code",
   "execution_count": 28,
   "metadata": {},
   "outputs": [
    {
     "name": "stdout",
     "output_type": "stream",
     "text": [
      "2\n"
     ]
    }
   ],
   "source": [
    "print(smallest_element_array([2, 3], 1))"
   ]
  },
  {
   "cell_type": "code",
   "execution_count": 29,
   "metadata": {
    "scrolled": true
   },
   "outputs": [
    {
     "ename": "ValueError",
     "evalue": "Invalid value",
     "output_type": "error",
     "traceback": [
      "\u001b[0;31m---------------------------------------------------------------------------\u001b[0m",
      "\u001b[0;31mValueError\u001b[0m                                Traceback (most recent call last)",
      "\u001b[0;32m<ipython-input-29-5202c2b0fdf5>\u001b[0m in \u001b[0;36m<module>\u001b[0;34m\u001b[0m\n\u001b[1;32m      1\u001b[0m \u001b[0;31m# . k should be betwenn 0, len(array)\u001b[0m\u001b[0;34m\u001b[0m\u001b[0;34m\u001b[0m\u001b[0m\n\u001b[0;32m----> 2\u001b[0;31m \u001b[0mprint\u001b[0m\u001b[0;34m(\u001b[0m\u001b[0msmallest_element_array\u001b[0m\u001b[0;34m(\u001b[0m\u001b[0;34m[\u001b[0m\u001b[0;34m]\u001b[0m\u001b[0;34m,\u001b[0m \u001b[0;36m0\u001b[0m\u001b[0;34m)\u001b[0m\u001b[0;34m)\u001b[0m\u001b[0;34m\u001b[0m\u001b[0m\n\u001b[0m",
      "\u001b[0;32m<ipython-input-25-bb75f8ce1daa>\u001b[0m in \u001b[0;36msmallest_element_array\u001b[0;34m(array, k)\u001b[0m\n\u001b[1;32m      1\u001b[0m \u001b[0;32mdef\u001b[0m \u001b[0msmallest_element_array\u001b[0m\u001b[0;34m(\u001b[0m\u001b[0marray\u001b[0m\u001b[0;34m,\u001b[0m \u001b[0mk\u001b[0m\u001b[0;34m)\u001b[0m\u001b[0;34m:\u001b[0m\u001b[0;34m\u001b[0m\u001b[0m\n\u001b[1;32m      2\u001b[0m     \u001b[0;32mif\u001b[0m \u001b[0mk\u001b[0m\u001b[0;34m==\u001b[0m\u001b[0;36m0\u001b[0m \u001b[0;32mor\u001b[0m \u001b[0mk\u001b[0m \u001b[0;32mnot\u001b[0m \u001b[0;32min\u001b[0m \u001b[0mrange\u001b[0m\u001b[0;34m(\u001b[0m\u001b[0;36m0\u001b[0m\u001b[0;34m,\u001b[0m \u001b[0mlen\u001b[0m\u001b[0;34m(\u001b[0m\u001b[0marray\u001b[0m\u001b[0;34m)\u001b[0m\u001b[0;34m+\u001b[0m\u001b[0;36m1\u001b[0m\u001b[0;34m)\u001b[0m\u001b[0;34m:\u001b[0m\u001b[0;34m\u001b[0m\u001b[0m\n\u001b[0;32m----> 3\u001b[0;31m         \u001b[0;32mraise\u001b[0m \u001b[0mValueError\u001b[0m\u001b[0;34m(\u001b[0m\u001b[0;34m'Invalid value'\u001b[0m\u001b[0;34m)\u001b[0m\u001b[0;34m\u001b[0m\u001b[0m\n\u001b[0m\u001b[1;32m      4\u001b[0m     \u001b[0msorted_array\u001b[0m \u001b[0;34m=\u001b[0m \u001b[0msorted\u001b[0m\u001b[0;34m(\u001b[0m\u001b[0marray\u001b[0m\u001b[0;34m)\u001b[0m\u001b[0;34m\u001b[0m\u001b[0m\n\u001b[1;32m      5\u001b[0m     \u001b[0;32mreturn\u001b[0m \u001b[0msorted_array\u001b[0m\u001b[0;34m[\u001b[0m\u001b[0mk\u001b[0m\u001b[0;34m-\u001b[0m\u001b[0;36m1\u001b[0m\u001b[0;34m]\u001b[0m\u001b[0;34m\u001b[0m\u001b[0m\n",
      "\u001b[0;31mValueError\u001b[0m: Invalid value"
     ]
    }
   ],
   "source": [
    "# . k should be betwenn 0, len(array)\n",
    "print(smallest_element_array([], 0))"
   ]
  },
  {
   "cell_type": "code",
   "execution_count": 2,
   "metadata": {},
   "outputs": [],
   "source": [
    "def smallest_array_two(array, k):\n",
    "    result = 0\n",
    "    for i in range(0, k):\n",
    "        current_el = array[i]\n",
    "        smallest_element = min(array[i:])\n",
    "        smallest_index = array.index(smallest_element)\n",
    "        array[i] = smallest_element\n",
    "        array[smallest_index] = current_el\n",
    "        result = smallest_element\n",
    "    return result"
   ]
  },
  {
   "cell_type": "code",
   "execution_count": 5,
   "metadata": {},
   "outputs": [],
   "source": [
    "assert smallest_array_two([7, 10, 4, 20, 15], 4) == 15\n",
    "assert smallest_array_two([7, 10, 4, 3, 20, 15], 3) == 7\n",
    "assert smallest_array_two([7, 10, 4, 3, 20, 15], 4) == 10"
   ]
  },
  {
   "cell_type": "markdown",
   "metadata": {},
   "source": [
    "The brute force algorithms the solution is not good enought and it can be improved :\n",
    "    - the part where am looking for the index of the minimum element of the array time complexity for getti the minimum element of the array using any sort method is atdepending to the sort algorithms equal to  1 or log (n)\n",
    "this lead to a worst case scenario of nlog(n) we do log n for n in the array\n",
    "\n",
    "If we learn quick sort we can improve the solution"
   ]
  },
  {
   "cell_type": "markdown",
   "metadata": {},
   "source": [
    "Topic to learn :\n",
    "    - Quick sort \n",
    "    - heaps"
   ]
  },
  {
   "cell_type": "markdown",
   "metadata": {},
   "source": [
    "After learning Quick sort , I come back to this question with a lot of insights on how to reduce the time complexity of the algorithm and write a better version of itself"
   ]
  },
  {
   "cell_type": "markdown",
   "metadata": {},
   "source": [
    "Let write down some insights form [this video](https://www.youtube.com/watch?v=hGK_5n81drs&t=1270s):\n",
    "\n",
    "    - We will get partitionning from quick sort and try to use it to solve this problem in a linear time.\n",
    "    - Another question to ask ourself if what is the position of the kth smallest item in the sorted aray\n",
    "    We all no that the element can be found in the kth - 1 if the array was sorted , or if we are looking for the largest item it can be found at at n-K position if the array was sorted.\n",
    "    - We can choose one pivot and partition arround that pivot element, the elment on the left of the pivot are lesser than it and the elements at the right of the pivot are greater than it .\n",
    "    - Once we are done with our partition we have to eliminate one partition and sort the remaining partiton ,  we keep the partition where we can find the kth-1 index \n",
    "    - we sort the parttion and return the elment at that index in the partiton\n",
    "To implement this , I will borrow code from the quicksort notebook and apply it here."
   ]
  },
  {
   "cell_type": "markdown",
   "metadata": {},
   "source": [
    "- Let bring back the parttition function from quicksort"
   ]
  },
  {
   "cell_type": "code",
   "execution_count": 6,
   "metadata": {},
   "outputs": [],
   "source": [
    "def partition(array, start_index, end_index):\n",
    "    \"\"\"\n",
    "    partition the array and return\n",
    "    return index of the pivot\n",
    "    \"\"\"\n",
    "    pivot = array[end_index]\n",
    "    p_index = start_index\n",
    "    for i in range(start_index, end_index):\n",
    "        if array[i] <= pivot:\n",
    "            array[i],array[p_index] = array[p_index], array[i] # swapping the index\n",
    "            p_index +=1\n",
    "    array[p_index],array[end_index] = array[end_index], array[p_index]\n",
    "    return p_index"
   ]
  },
  {
   "cell_type": "code",
   "execution_count": 7,
   "metadata": {},
   "outputs": [],
   "source": [
    "def quicksort(array, start_index, end_index):\n",
    "    \"\"\"\n",
    "    do the quicksort algorithms recursvely\n",
    "    \"\"\"\n",
    "    if start_index < end_index:\n",
    "        pivot_index = partition(array, start_index, end_index)\n",
    "        quicksort(array, start_index, pivot_index-1)\n",
    "        quicksort(array, pivot_index+1, end_index)    "
   ]
  },
  {
   "cell_type": "markdown",
   "metadata": {},
   "source": [
    "we all know from partitionning that once we have pivoted element on the left will be less than the pivots and element at the right will be greter than the pivot, once we have k element on the left of the pivot we can be sure that the element we are looking for is at the pivot index."
   ]
  },
  {
   "cell_type": "code",
   "execution_count": 1,
   "metadata": {},
   "outputs": [],
   "source": [
    "def smallest_element_with_partition(array, k):\n",
    "    start_index = 0\n",
    "    end_index = len(array)-1\n",
    "    \n",
    "    while start_index <= end_index:\n",
    "        pivot_index = partition(array, start_index, end_index)\n",
    "        if (k-1) == pivot_index:\n",
    "            return array[pivot_index]\n",
    "        elif (k-1) < pivot_index:\n",
    "            end_index = pivot_index-1\n",
    "        elif (k-1) > pivot_index:\n",
    "            start_index = pivot_index+1"
   ]
  },
  {
   "cell_type": "code",
   "execution_count": 25,
   "metadata": {},
   "outputs": [],
   "source": [
    "assert (smallest_element_with_partition([7, 10, 4, 20, 15], 4)) == 15\n",
    "assert (smallest_element_with_partition([7, 10, 4, 3, 20, 15], 3)) == 7\n",
    "assert smallest_element_with_partition([7, 10, 4, 3, 20, 15], 4) == 10"
   ]
  },
  {
   "cell_type": "code",
   "execution_count": null,
   "metadata": {},
   "outputs": [],
   "source": []
  }
 ],
 "metadata": {
  "kernelspec": {
   "display_name": "Python 3",
   "language": "python",
   "name": "python3"
  },
  "language_info": {
   "codemirror_mode": {
    "name": "ipython",
    "version": 3
   },
   "file_extension": ".py",
   "mimetype": "text/x-python",
   "name": "python",
   "nbconvert_exporter": "python",
   "pygments_lexer": "ipython3",
   "version": "3.6.5"
  }
 },
 "nbformat": 4,
 "nbformat_minor": 2
}
