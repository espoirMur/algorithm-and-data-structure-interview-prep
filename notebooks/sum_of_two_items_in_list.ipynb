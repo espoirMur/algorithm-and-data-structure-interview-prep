{
 "cells": [
  {
   "cell_type": "markdown",
   "metadata": {},
   "source": [
    "### The Problem"
   ]
  },
  {
   "cell_type": "markdown",
   "metadata": {},
   "source": [
    "Given a list of numbers and a number k, return whether any two numbers from the list add up to k."
   ]
  },
  {
   "cell_type": "markdown",
   "metadata": {},
   "source": [
    "For example, given [10, 15, 3, 7] and k of 17, return true since 10 + 7 is 17."
   ]
  },
  {
   "cell_type": "markdown",
   "metadata": {},
   "source": [
    "### Assumptions\n",
    "- The array is not sorted \n",
    "- array elements are integer, it can hold positives and negatives\n",
    "- array can hold duplicates elments\n",
    "- can I consider sum of myself?"
   ]
  },
  {
   "cell_type": "markdown",
   "metadata": {},
   "source": [
    "### Solutions"
   ]
  },
  {
   "cell_type": "markdown",
   "metadata": {},
   "source": [
    "The Brute force algorithms:\n",
    "    - start with the element at the first index , loop trow the array comparing if his complement can be found whithin it\n",
    "    - if it found return it \n",
    "repeat this step for all array elements"
   ]
  },
  {
   "cell_type": "code",
   "execution_count": 5,
   "metadata": {},
   "outputs": [],
   "source": [
    "def check_if_elements_add_to_sum(array, k):\n",
    "    for i, x in enumerate(array):\n",
    "        for y in array[i:]:\n",
    "            if x+y == k:\n",
    "                return True"
   ]
  },
  {
   "cell_type": "code",
   "execution_count": 6,
   "metadata": {},
   "outputs": [
    {
     "data": {
      "text/plain": [
       "True"
      ]
     },
     "execution_count": 6,
     "metadata": {},
     "output_type": "execute_result"
    }
   ],
   "source": [
    "check_if_elements_add_to_sum([10, 15, 3, 7] , 17)"
   ]
  },
  {
   "cell_type": "markdown",
   "metadata": {},
   "source": [
    "This solution lead to an n2 approximately solution , it should be improve, but how?\n",
    "- if the array was sorted we could started with the middle of the remainig sub array check where the complement is \n",
    "found at the right or at the left, repeat until is found,\n",
    "\n",
    "By this way we can reduce the time complexity by 2"
   ]
  },
  {
   "cell_type": "markdown",
   "metadata": {},
   "source": [
    "- if sum of the current item plus the element at the middle of the remaining item is greater than the target we look into the left side\n",
    "- if sum of the current item plus the element at the middle of the remaining item is less than the target we look into the right side\n",
    "- if sum is equal we return it"
   ]
  },
  {
   "cell_type": "markdown",
   "metadata": {},
   "source": [
    "and we repeat it until we reach the end"
   ]
  },
  {
   "cell_type": "code",
   "execution_count": null,
   "metadata": {},
   "outputs": [],
   "source": [
    "def check_if_elements_add_to_sum_v2(array, k):\n",
    "    array.sort()\n",
    "    middle_index = len(array)/2\n",
    "    for i, x in enumerate(array):\n",
    "        while middle_index in range(0, len(array)):\n",
    "            if x + array[middle_index] > k:\n",
    "                #go to left of the left of the sub array\n",
    "                middle_index = (len(array) -i)/2\n",
    "            elif x + array[middle_index] > k:\n",
    "                #go to the right of the sub array\n",
    "                middle_index = (len(array) +i)/2\n",
    "            else:\n",
    "                return True\n",
    "    return False\n",
    "                "
   ]
  }
 ],
 "metadata": {
  "kernelspec": {
   "display_name": "Python 3",
   "language": "python",
   "name": "python3"
  },
  "language_info": {
   "codemirror_mode": {
    "name": "ipython",
    "version": 3
   },
   "file_extension": ".py",
   "mimetype": "text/x-python",
   "name": "python",
   "nbconvert_exporter": "python",
   "pygments_lexer": "ipython3",
   "version": "3.6.5"
  }
 },
 "nbformat": 4,
 "nbformat_minor": 2
}
